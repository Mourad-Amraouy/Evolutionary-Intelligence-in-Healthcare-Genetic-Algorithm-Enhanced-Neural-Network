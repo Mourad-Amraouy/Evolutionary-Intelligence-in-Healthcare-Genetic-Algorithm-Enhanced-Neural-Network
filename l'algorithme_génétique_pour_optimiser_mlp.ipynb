{
 "cells": [
  {
   "cell_type": "markdown",
   "id": "44f57072",
   "metadata": {},
   "source": [
    "# utilisant l'algorithme génétique pour optimiser un modèle de réseau de neurones pour prédire le diabète à partir du Diabetes Dataset:"
   ]
  },
  {
   "cell_type": "raw",
   "id": "280895ee",
   "metadata": {},
   "source": [
    "on utilise la bibliothèque DEAP pour exécuter l'algorithme génétique et trouver les meilleurs paramètres pour le modèle de réseau de neurones. Les paramètres du modèle avec la meilleure fitness sont ensuite extraits et utilisés pour entraîner et évaluer le modèle final. Les résultats de perte et d'exactitude sur l'ensemble de test sont affichés à la fin.\n",
    "et on affiche aussi le Meilleur fitness et le Meilleur chromosome:"
   ]
  },
  {
   "cell_type": "code",
   "execution_count": 1,
   "id": "a801f4e5",
   "metadata": {},
   "outputs": [],
   "source": [
    "import numpy as np\n",
    "import pandas as pd\n",
    "from keras.models import Sequential\n",
    "from keras.layers import Dense\n",
    "from keras.optimizers import Adam\n",
    "from sklearn.model_selection import train_test_split\n",
    "from sklearn.preprocessing import StandardScaler\n",
    "from deap import base, creator, tools, algorithms"
   ]
  },
  {
   "cell_type": "code",
   "execution_count": 2,
   "id": "ff23943e",
   "metadata": {},
   "outputs": [
    {
     "name": "stdout",
     "output_type": "stream",
     "text": [
      "Meilleur chromosome:  [6, 2, 8]\n",
      "Perte sur l'ensemble de test:  0.5797340273857117\n",
      "Exactitude sur l'ensemble de test:  0.7597402334213257\n"
     ]
    }
   ],
   "source": [
    "import numpy as np\n",
    "import pandas as pd\n",
    "from keras.models import Sequential\n",
    "from keras.layers import Dense\n",
    "from keras.optimizers import Adam\n",
    "from sklearn.model_selection import train_test_split\n",
    "from sklearn.preprocessing import StandardScaler\n",
    "from deap import base, creator, tools, algorithms\n",
    "\n",
    "# Chargement des données\n",
    "df = pd.read_csv('diabetes.csv')\n",
    "X = df.iloc[:, :-1].values\n",
    "y = df.iloc[:, -1].values\n",
    "\n",
    "# Normalisation des données\n",
    "sc = StandardScaler()\n",
    "X = sc.fit_transform(X)\n",
    "\n",
    "# Séparation des données en ensemble d'entraînement et de test\n",
    "X_train, X_test, y_train, y_test = train_test_split(X, y, test_size=0.2, random_state=0)\n",
    "\n",
    "# Fonction d'évaluation pour le modèle de réseau de neurones\n",
    "def evaluate_nn(individual):\n",
    "    model = Sequential()\n",
    "    model.add(Dense(individual[0], input_dim=X_train.shape[1], activation='relu'))\n",
    "    for i in range(1, len(individual)):\n",
    "        model.add(Dense(individual[i], activation='relu'))\n",
    "    model.add(Dense(1, activation='sigmoid'))\n",
    "\n",
    "    opt = Adam(learning_rate=0.01)\n",
    "    model.compile(loss='binary_crossentropy', optimizer=opt, metrics=['accuracy'])\n",
    "\n",
    "    model.fit(X_train, y_train, epochs=100, batch_size=32, verbose=0)\n",
    "    score = model.evaluate(X_test, y_test, verbose=0)\n",
    "\n",
    "    return score[1],\n",
    "\n",
    "# Définition des paramètres de l'algorithme génétique avec DEAP\n",
    "creator.create(\"FitnessMax\", base.Fitness, weights=(1.0,))\n",
    "creator.create(\"Individual\", list, fitness=creator.FitnessMax)\n",
    "toolbox = base.Toolbox()\n",
    "toolbox.register(\"attr_int\", np.random.randint, 2, 16)\n",
    "toolbox.register(\"individual\", tools.initRepeat, creator.Individual, toolbox.attr_int, n=3)\n",
    "toolbox.register(\"population\", tools.initRepeat, list, toolbox.individual)\n",
    "toolbox.register(\"evaluate\", evaluate_nn)\n",
    "toolbox.register(\"mate\", tools.cxTwoPoint)\n",
    "toolbox.register(\"mutate\", tools.mutUniformInt, low=2, up=16, indpb=0.1)\n",
    "toolbox.register(\"select\", tools.selTournament, tournsize=3)\n",
    "\n",
    "# Exécution de l'algorithme génétique avec DEAP\n",
    "pop = toolbox.population(n=10)\n",
    "algorithms.eaSimple(pop, toolbox, cxpb=0.5, mutpb=0.2, ngen=10, verbose=False)\n",
    "\n",
    "# Récupération du meilleur individu\n",
    "best_ind = tools.selBest(pop, k=1)[0]\n",
    "print(\"Meilleur chromosome: \", best_ind)\n",
    "\n",
    "# Entraînement et évaluation du modèle final avec le meilleur individu\n",
    "model = Sequential()\n",
    "model.add(Dense(best_ind[0], input_dim=X_train.shape[1], activation='relu'))\n",
    "for i in range(1, len(best_ind)):\n",
    "    model.add(Dense(best_ind[i], activation='relu'))\n",
    "model.add(Dense(1, activation='sigmoid'))\n",
    "\n",
    "opt = Adam(learning_rate=0.01)\n",
    "model.compile(loss='binary_crossentropy', optimizer=opt, metrics=['accuracy'])\n",
    "\n",
    "model.fit(X_train, y_train, epochs=100, batch_size=32, verbose=0)\n",
    "score = model.evaluate(X_test, y_test, verbose=0)\n",
    "\n",
    "print(\"Perte sur l'ensemble de test: \", score[0])\n",
    "print(\"Exactitude sur l'ensemble de test: \", score[1])\n"
   ]
  },
  {
   "cell_type": "markdown",
   "id": "190427e3",
   "metadata": {},
   "source": [
    "# Affiche le Meilleur fitness"
   ]
  },
  {
   "cell_type": "code",
   "execution_count": 5,
   "id": "87187fc6",
   "metadata": {},
   "outputs": [
    {
     "name": "stdout",
     "output_type": "stream",
     "text": [
      "Meilleur fitness :  0.8051947951316833\n"
     ]
    }
   ],
   "source": [
    "best_fitness = evaluate_nn(best_ind)[0]\n",
    "print(\"Meilleur fitness : \", best_fitness)"
   ]
  },
  {
   "cell_type": "code",
   "execution_count": null,
   "id": "ca769599",
   "metadata": {},
   "outputs": [],
   "source": []
  }
 ],
 "metadata": {
  "kernelspec": {
   "display_name": "Python 3 (ipykernel)",
   "language": "python",
   "name": "python3"
  },
  "language_info": {
   "codemirror_mode": {
    "name": "ipython",
    "version": 3
   },
   "file_extension": ".py",
   "mimetype": "text/x-python",
   "name": "python",
   "nbconvert_exporter": "python",
   "pygments_lexer": "ipython3",
   "version": "3.9.13"
  }
 },
 "nbformat": 4,
 "nbformat_minor": 5
}
